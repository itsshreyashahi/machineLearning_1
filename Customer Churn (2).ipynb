{
 "cells": [
  {
   "cell_type": "code",
   "execution_count": 1,
   "id": "d3c0bb48",
   "metadata": {},
   "outputs": [],
   "source": [
    "#Imports\n",
    "import pandas as pd\n",
    "# For visualization\n",
    "import matplotlib.pyplot as plt\n",
    "%matplotlib inline\n",
    "import seaborn as sns\n",
    "\n",
    "from sklearn.model_selection import cross_val_score\n",
    "from sklearn.model_selection import GridSearchCV\n",
    "\n",
    "# Fit models\n",
    "from sklearn.ensemble import RandomForestClassifier\n",
    "from xgboost import XGBClassifier\n",
    "\n",
    "# Scoring functions\n",
    "from sklearn.metrics import accuracy_score\n",
    "from sklearn.metrics import classification_report\n",
    "from sklearn.metrics import roc_auc_score\n",
    "from sklearn.metrics import roc_curve"
   ]
  },
  {
   "cell_type": "code",
   "execution_count": 2,
   "id": "6dd050dd",
   "metadata": {},
   "outputs": [],
   "source": [
    "#Read data\n",
    "data=pd.read_csv(\"C:\\\\Users\\\\user\\\\Downloads\\\\churn_1.csv\")"
   ]
  },
  {
   "cell_type": "code",
   "execution_count": 3,
   "id": "47d8e481",
   "metadata": {},
   "outputs": [
    {
     "data": {
      "text/html": [
       "<div>\n",
       "<style scoped>\n",
       "    .dataframe tbody tr th:only-of-type {\n",
       "        vertical-align: middle;\n",
       "    }\n",
       "\n",
       "    .dataframe tbody tr th {\n",
       "        vertical-align: top;\n",
       "    }\n",
       "\n",
       "    .dataframe thead th {\n",
       "        text-align: right;\n",
       "    }\n",
       "</style>\n",
       "<table border=\"1\" class=\"dataframe\">\n",
       "  <thead>\n",
       "    <tr style=\"text-align: right;\">\n",
       "      <th></th>\n",
       "      <th>RowNumber</th>\n",
       "      <th>CustomerId</th>\n",
       "      <th>Surname</th>\n",
       "      <th>CreditScore</th>\n",
       "      <th>Geography</th>\n",
       "      <th>Gender</th>\n",
       "      <th>Age</th>\n",
       "      <th>Tenure</th>\n",
       "      <th>Balance</th>\n",
       "      <th>NumOfProducts</th>\n",
       "      <th>HasCrCard</th>\n",
       "      <th>IsActiveMember</th>\n",
       "      <th>EstimatedSalary</th>\n",
       "      <th>Exited</th>\n",
       "    </tr>\n",
       "  </thead>\n",
       "  <tbody>\n",
       "    <tr>\n",
       "      <th>0</th>\n",
       "      <td>1</td>\n",
       "      <td>15634602</td>\n",
       "      <td>Hargrave</td>\n",
       "      <td>619</td>\n",
       "      <td>France</td>\n",
       "      <td>Female</td>\n",
       "      <td>42</td>\n",
       "      <td>2</td>\n",
       "      <td>0.00</td>\n",
       "      <td>1</td>\n",
       "      <td>1</td>\n",
       "      <td>1</td>\n",
       "      <td>101348.88</td>\n",
       "      <td>1</td>\n",
       "    </tr>\n",
       "    <tr>\n",
       "      <th>1</th>\n",
       "      <td>2</td>\n",
       "      <td>15647311</td>\n",
       "      <td>Hill</td>\n",
       "      <td>608</td>\n",
       "      <td>Spain</td>\n",
       "      <td>Female</td>\n",
       "      <td>41</td>\n",
       "      <td>1</td>\n",
       "      <td>83807.86</td>\n",
       "      <td>1</td>\n",
       "      <td>0</td>\n",
       "      <td>1</td>\n",
       "      <td>112542.58</td>\n",
       "      <td>0</td>\n",
       "    </tr>\n",
       "    <tr>\n",
       "      <th>2</th>\n",
       "      <td>3</td>\n",
       "      <td>15619304</td>\n",
       "      <td>Onio</td>\n",
       "      <td>502</td>\n",
       "      <td>France</td>\n",
       "      <td>Female</td>\n",
       "      <td>42</td>\n",
       "      <td>8</td>\n",
       "      <td>159660.80</td>\n",
       "      <td>3</td>\n",
       "      <td>1</td>\n",
       "      <td>0</td>\n",
       "      <td>113931.57</td>\n",
       "      <td>1</td>\n",
       "    </tr>\n",
       "    <tr>\n",
       "      <th>3</th>\n",
       "      <td>4</td>\n",
       "      <td>15701354</td>\n",
       "      <td>Boni</td>\n",
       "      <td>699</td>\n",
       "      <td>France</td>\n",
       "      <td>Female</td>\n",
       "      <td>39</td>\n",
       "      <td>1</td>\n",
       "      <td>0.00</td>\n",
       "      <td>2</td>\n",
       "      <td>0</td>\n",
       "      <td>0</td>\n",
       "      <td>93826.63</td>\n",
       "      <td>0</td>\n",
       "    </tr>\n",
       "    <tr>\n",
       "      <th>4</th>\n",
       "      <td>5</td>\n",
       "      <td>15737888</td>\n",
       "      <td>Mitchell</td>\n",
       "      <td>850</td>\n",
       "      <td>Spain</td>\n",
       "      <td>Female</td>\n",
       "      <td>43</td>\n",
       "      <td>2</td>\n",
       "      <td>125510.82</td>\n",
       "      <td>1</td>\n",
       "      <td>1</td>\n",
       "      <td>1</td>\n",
       "      <td>79084.10</td>\n",
       "      <td>0</td>\n",
       "    </tr>\n",
       "  </tbody>\n",
       "</table>\n",
       "</div>"
      ],
      "text/plain": [
       "   RowNumber  CustomerId   Surname  CreditScore Geography  Gender  Age  \\\n",
       "0          1    15634602  Hargrave          619    France  Female   42   \n",
       "1          2    15647311      Hill          608     Spain  Female   41   \n",
       "2          3    15619304      Onio          502    France  Female   42   \n",
       "3          4    15701354      Boni          699    France  Female   39   \n",
       "4          5    15737888  Mitchell          850     Spain  Female   43   \n",
       "\n",
       "   Tenure    Balance  NumOfProducts  HasCrCard  IsActiveMember  \\\n",
       "0       2       0.00              1          1               1   \n",
       "1       1   83807.86              1          0               1   \n",
       "2       8  159660.80              3          1               0   \n",
       "3       1       0.00              2          0               0   \n",
       "4       2  125510.82              1          1               1   \n",
       "\n",
       "   EstimatedSalary  Exited  \n",
       "0        101348.88       1  \n",
       "1        112542.58       0  \n",
       "2        113931.57       1  \n",
       "3         93826.63       0  \n",
       "4         79084.10       0  "
      ]
     },
     "execution_count": 3,
     "metadata": {},
     "output_type": "execute_result"
    }
   ],
   "source": [
    "data.head()"
   ]
  },
  {
   "cell_type": "code",
   "execution_count": 4,
   "id": "8d77f659",
   "metadata": {},
   "outputs": [
    {
     "data": {
      "text/plain": [
       "'\\nThe customer is churining the product but not bank , that explains why even when cutomer has exited he/she is showing as active\\nand has balance\\n'"
      ]
     },
     "execution_count": 4,
     "metadata": {},
     "output_type": "execute_result"
    }
   ],
   "source": [
    "#As there is no data description provided some asumptions :\n",
    "'''\n",
    "The customer is churining the product but not bank , that explains why even when cutomer has exited he/she is showing as active\n",
    "and has balance\n",
    "'''"
   ]
  },
  {
   "cell_type": "code",
   "execution_count": 5,
   "id": "20bc72e6",
   "metadata": {},
   "outputs": [
    {
     "data": {
      "text/html": [
       "<div>\n",
       "<style scoped>\n",
       "    .dataframe tbody tr th:only-of-type {\n",
       "        vertical-align: middle;\n",
       "    }\n",
       "\n",
       "    .dataframe tbody tr th {\n",
       "        vertical-align: top;\n",
       "    }\n",
       "\n",
       "    .dataframe thead th {\n",
       "        text-align: right;\n",
       "    }\n",
       "</style>\n",
       "<table border=\"1\" class=\"dataframe\">\n",
       "  <thead>\n",
       "    <tr style=\"text-align: right;\">\n",
       "      <th></th>\n",
       "      <th>RowNumber</th>\n",
       "      <th>CustomerId</th>\n",
       "      <th>CreditScore</th>\n",
       "      <th>Age</th>\n",
       "      <th>Tenure</th>\n",
       "      <th>Balance</th>\n",
       "      <th>NumOfProducts</th>\n",
       "      <th>HasCrCard</th>\n",
       "      <th>IsActiveMember</th>\n",
       "      <th>EstimatedSalary</th>\n",
       "      <th>Exited</th>\n",
       "    </tr>\n",
       "  </thead>\n",
       "  <tbody>\n",
       "    <tr>\n",
       "      <th>count</th>\n",
       "      <td>10000.00000</td>\n",
       "      <td>1.000000e+04</td>\n",
       "      <td>10000.000000</td>\n",
       "      <td>10000.000000</td>\n",
       "      <td>10000.000000</td>\n",
       "      <td>10000.000000</td>\n",
       "      <td>10000.000000</td>\n",
       "      <td>10000.00000</td>\n",
       "      <td>10000.000000</td>\n",
       "      <td>10000.000000</td>\n",
       "      <td>10000.000000</td>\n",
       "    </tr>\n",
       "    <tr>\n",
       "      <th>mean</th>\n",
       "      <td>5000.50000</td>\n",
       "      <td>1.569094e+07</td>\n",
       "      <td>650.528800</td>\n",
       "      <td>38.921800</td>\n",
       "      <td>5.012800</td>\n",
       "      <td>76485.889288</td>\n",
       "      <td>1.530200</td>\n",
       "      <td>0.70550</td>\n",
       "      <td>0.515100</td>\n",
       "      <td>100090.239881</td>\n",
       "      <td>0.203700</td>\n",
       "    </tr>\n",
       "    <tr>\n",
       "      <th>std</th>\n",
       "      <td>2886.89568</td>\n",
       "      <td>7.193619e+04</td>\n",
       "      <td>96.653299</td>\n",
       "      <td>10.487806</td>\n",
       "      <td>2.892174</td>\n",
       "      <td>62397.405202</td>\n",
       "      <td>0.581654</td>\n",
       "      <td>0.45584</td>\n",
       "      <td>0.499797</td>\n",
       "      <td>57510.492818</td>\n",
       "      <td>0.402769</td>\n",
       "    </tr>\n",
       "    <tr>\n",
       "      <th>min</th>\n",
       "      <td>1.00000</td>\n",
       "      <td>1.556570e+07</td>\n",
       "      <td>350.000000</td>\n",
       "      <td>18.000000</td>\n",
       "      <td>0.000000</td>\n",
       "      <td>0.000000</td>\n",
       "      <td>1.000000</td>\n",
       "      <td>0.00000</td>\n",
       "      <td>0.000000</td>\n",
       "      <td>11.580000</td>\n",
       "      <td>0.000000</td>\n",
       "    </tr>\n",
       "    <tr>\n",
       "      <th>25%</th>\n",
       "      <td>2500.75000</td>\n",
       "      <td>1.562853e+07</td>\n",
       "      <td>584.000000</td>\n",
       "      <td>32.000000</td>\n",
       "      <td>3.000000</td>\n",
       "      <td>0.000000</td>\n",
       "      <td>1.000000</td>\n",
       "      <td>0.00000</td>\n",
       "      <td>0.000000</td>\n",
       "      <td>51002.110000</td>\n",
       "      <td>0.000000</td>\n",
       "    </tr>\n",
       "    <tr>\n",
       "      <th>50%</th>\n",
       "      <td>5000.50000</td>\n",
       "      <td>1.569074e+07</td>\n",
       "      <td>652.000000</td>\n",
       "      <td>37.000000</td>\n",
       "      <td>5.000000</td>\n",
       "      <td>97198.540000</td>\n",
       "      <td>1.000000</td>\n",
       "      <td>1.00000</td>\n",
       "      <td>1.000000</td>\n",
       "      <td>100193.915000</td>\n",
       "      <td>0.000000</td>\n",
       "    </tr>\n",
       "    <tr>\n",
       "      <th>75%</th>\n",
       "      <td>7500.25000</td>\n",
       "      <td>1.575323e+07</td>\n",
       "      <td>718.000000</td>\n",
       "      <td>44.000000</td>\n",
       "      <td>7.000000</td>\n",
       "      <td>127644.240000</td>\n",
       "      <td>2.000000</td>\n",
       "      <td>1.00000</td>\n",
       "      <td>1.000000</td>\n",
       "      <td>149388.247500</td>\n",
       "      <td>0.000000</td>\n",
       "    </tr>\n",
       "    <tr>\n",
       "      <th>max</th>\n",
       "      <td>10000.00000</td>\n",
       "      <td>1.581569e+07</td>\n",
       "      <td>850.000000</td>\n",
       "      <td>92.000000</td>\n",
       "      <td>10.000000</td>\n",
       "      <td>250898.090000</td>\n",
       "      <td>4.000000</td>\n",
       "      <td>1.00000</td>\n",
       "      <td>1.000000</td>\n",
       "      <td>199992.480000</td>\n",
       "      <td>1.000000</td>\n",
       "    </tr>\n",
       "  </tbody>\n",
       "</table>\n",
       "</div>"
      ],
      "text/plain": [
       "         RowNumber    CustomerId   CreditScore           Age        Tenure  \\\n",
       "count  10000.00000  1.000000e+04  10000.000000  10000.000000  10000.000000   \n",
       "mean    5000.50000  1.569094e+07    650.528800     38.921800      5.012800   \n",
       "std     2886.89568  7.193619e+04     96.653299     10.487806      2.892174   \n",
       "min        1.00000  1.556570e+07    350.000000     18.000000      0.000000   \n",
       "25%     2500.75000  1.562853e+07    584.000000     32.000000      3.000000   \n",
       "50%     5000.50000  1.569074e+07    652.000000     37.000000      5.000000   \n",
       "75%     7500.25000  1.575323e+07    718.000000     44.000000      7.000000   \n",
       "max    10000.00000  1.581569e+07    850.000000     92.000000     10.000000   \n",
       "\n",
       "             Balance  NumOfProducts    HasCrCard  IsActiveMember  \\\n",
       "count   10000.000000   10000.000000  10000.00000    10000.000000   \n",
       "mean    76485.889288       1.530200      0.70550        0.515100   \n",
       "std     62397.405202       0.581654      0.45584        0.499797   \n",
       "min         0.000000       1.000000      0.00000        0.000000   \n",
       "25%         0.000000       1.000000      0.00000        0.000000   \n",
       "50%     97198.540000       1.000000      1.00000        1.000000   \n",
       "75%    127644.240000       2.000000      1.00000        1.000000   \n",
       "max    250898.090000       4.000000      1.00000        1.000000   \n",
       "\n",
       "       EstimatedSalary        Exited  \n",
       "count     10000.000000  10000.000000  \n",
       "mean     100090.239881      0.203700  \n",
       "std       57510.492818      0.402769  \n",
       "min          11.580000      0.000000  \n",
       "25%       51002.110000      0.000000  \n",
       "50%      100193.915000      0.000000  \n",
       "75%      149388.247500      0.000000  \n",
       "max      199992.480000      1.000000  "
      ]
     },
     "execution_count": 5,
     "metadata": {},
     "output_type": "execute_result"
    }
   ],
   "source": [
    "data.describe()"
   ]
  },
  {
   "cell_type": "code",
   "execution_count": 6,
   "id": "95ac1bee",
   "metadata": {},
   "outputs": [
    {
     "name": "stdout",
     "output_type": "stream",
     "text": [
      "<class 'pandas.core.frame.DataFrame'>\n",
      "RangeIndex: 10000 entries, 0 to 9999\n",
      "Data columns (total 14 columns):\n",
      " #   Column           Non-Null Count  Dtype  \n",
      "---  ------           --------------  -----  \n",
      " 0   RowNumber        10000 non-null  int64  \n",
      " 1   CustomerId       10000 non-null  int64  \n",
      " 2   Surname          10000 non-null  object \n",
      " 3   CreditScore      10000 non-null  int64  \n",
      " 4   Geography        10000 non-null  object \n",
      " 5   Gender           10000 non-null  object \n",
      " 6   Age              10000 non-null  int64  \n",
      " 7   Tenure           10000 non-null  int64  \n",
      " 8   Balance          10000 non-null  float64\n",
      " 9   NumOfProducts    10000 non-null  int64  \n",
      " 10  HasCrCard        10000 non-null  int64  \n",
      " 11  IsActiveMember   10000 non-null  int64  \n",
      " 12  EstimatedSalary  10000 non-null  float64\n",
      " 13  Exited           10000 non-null  int64  \n",
      "dtypes: float64(2), int64(9), object(3)\n",
      "memory usage: 1.1+ MB\n"
     ]
    }
   ],
   "source": [
    "data.info()"
   ]
  },
  {
   "cell_type": "code",
   "execution_count": 7,
   "id": "8d163d5a",
   "metadata": {},
   "outputs": [
    {
     "data": {
      "text/plain": [
       "RowNumber          0\n",
       "CustomerId         0\n",
       "Surname            0\n",
       "CreditScore        0\n",
       "Geography          0\n",
       "Gender             0\n",
       "Age                0\n",
       "Tenure             0\n",
       "Balance            0\n",
       "NumOfProducts      0\n",
       "HasCrCard          0\n",
       "IsActiveMember     0\n",
       "EstimatedSalary    0\n",
       "Exited             0\n",
       "dtype: int64"
      ]
     },
     "execution_count": 7,
     "metadata": {},
     "output_type": "execute_result"
    }
   ],
   "source": [
    "# No nulls\n",
    "data.isnull().sum()"
   ]
  },
  {
   "cell_type": "code",
   "execution_count": 8,
   "id": "85539011",
   "metadata": {},
   "outputs": [
    {
     "name": "stdout",
     "output_type": "stream",
     "text": [
      "1        1\n",
      "6671     1\n",
      "6664     1\n",
      "6665     1\n",
      "6666     1\n",
      "        ..\n",
      "3334     1\n",
      "3335     1\n",
      "3336     1\n",
      "3337     1\n",
      "10000    1\n",
      "Name: RowNumber, Length: 10000, dtype: int64\n",
      "15634602    1\n",
      "15667932    1\n",
      "15766185    1\n",
      "15667632    1\n",
      "15599024    1\n",
      "           ..\n",
      "15599078    1\n",
      "15702300    1\n",
      "15660735    1\n",
      "15671390    1\n",
      "15628319    1\n",
      "Name: CustomerId, Length: 10000, dtype: int64\n",
      "Smith       32\n",
      "Scott       29\n",
      "Martin      29\n",
      "Walker      28\n",
      "Brown       26\n",
      "            ..\n",
      "Izmailov     1\n",
      "Bold         1\n",
      "Bonham       1\n",
      "Poninski     1\n",
      "Burbidge     1\n",
      "Name: Surname, Length: 2932, dtype: int64\n",
      "850    233\n",
      "678     63\n",
      "655     54\n",
      "705     53\n",
      "667     53\n",
      "      ... \n",
      "404      1\n",
      "351      1\n",
      "365      1\n",
      "417      1\n",
      "419      1\n",
      "Name: CreditScore, Length: 460, dtype: int64\n",
      "France     5014\n",
      "Germany    2509\n",
      "Spain      2477\n",
      "Name: Geography, dtype: int64\n",
      "Male      5457\n",
      "Female    4543\n",
      "Name: Gender, dtype: int64\n",
      "37    478\n",
      "38    477\n",
      "35    474\n",
      "36    456\n",
      "34    447\n",
      "     ... \n",
      "92      2\n",
      "82      1\n",
      "88      1\n",
      "85      1\n",
      "83      1\n",
      "Name: Age, Length: 70, dtype: int64\n",
      "2     1048\n",
      "1     1035\n",
      "7     1028\n",
      "8     1025\n",
      "5     1012\n",
      "3     1009\n",
      "4      989\n",
      "9      984\n",
      "6      967\n",
      "10     490\n",
      "0      413\n",
      "Name: Tenure, dtype: int64\n",
      "0.00         3617\n",
      "130170.82       2\n",
      "105473.74       2\n",
      "85304.27        1\n",
      "159397.75       1\n",
      "             ... \n",
      "81556.89        1\n",
      "112687.69       1\n",
      "108698.96       1\n",
      "238387.56       1\n",
      "130142.79       1\n",
      "Name: Balance, Length: 6382, dtype: int64\n",
      "1    5084\n",
      "2    4590\n",
      "3     266\n",
      "4      60\n",
      "Name: NumOfProducts, dtype: int64\n",
      "1    7055\n",
      "0    2945\n",
      "Name: HasCrCard, dtype: int64\n",
      "1    5151\n",
      "0    4849\n",
      "Name: IsActiveMember, dtype: int64\n",
      "24924.92     2\n",
      "101348.88    1\n",
      "55313.44     1\n",
      "72500.68     1\n",
      "182692.80    1\n",
      "            ..\n",
      "120893.07    1\n",
      "188377.21    1\n",
      "55902.93     1\n",
      "4523.74      1\n",
      "38190.78     1\n",
      "Name: EstimatedSalary, Length: 9999, dtype: int64\n",
      "0    7963\n",
      "1    2037\n",
      "Name: Exited, dtype: int64\n"
     ]
    }
   ],
   "source": [
    "#We will not be performing EDA on RowNumber,CustomerId,Surname as they are customer specific and cannot add any value to model\n",
    "#We will not be performing the eda basis of Gender\n",
    "for i in data.columns:\n",
    "    print(data[i].value_counts())"
   ]
  },
  {
   "cell_type": "code",
   "execution_count": 6,
   "id": "87bd94a8",
   "metadata": {},
   "outputs": [],
   "source": [
    "cat_cols=['Geography','Gender','NumOfProducts','HasCrCard','IsActiveMember','Exited']\n",
    "num_cols=['CreditScore','Tenure','Age','Balance','EstimatedSalary']"
   ]
  },
  {
   "cell_type": "code",
   "execution_count": 7,
   "id": "248e11f8",
   "metadata": {},
   "outputs": [],
   "source": [
    "#change the data type for categorical columns\n",
    "data[cat_cols]=data[cat_cols].astype(\"object\")"
   ]
  },
  {
   "cell_type": "code",
   "execution_count": 11,
   "id": "f7feb6ea",
   "metadata": {},
   "outputs": [
    {
     "name": "stdout",
     "output_type": "stream",
     "text": [
      "<class 'pandas.core.frame.DataFrame'>\n",
      "RangeIndex: 10000 entries, 0 to 9999\n",
      "Data columns (total 14 columns):\n",
      " #   Column           Non-Null Count  Dtype  \n",
      "---  ------           --------------  -----  \n",
      " 0   RowNumber        10000 non-null  int64  \n",
      " 1   CustomerId       10000 non-null  int64  \n",
      " 2   Surname          10000 non-null  object \n",
      " 3   CreditScore      10000 non-null  int64  \n",
      " 4   Geography        10000 non-null  object \n",
      " 5   Gender           10000 non-null  object \n",
      " 6   Age              10000 non-null  int64  \n",
      " 7   Tenure           10000 non-null  int64  \n",
      " 8   Balance          10000 non-null  float64\n",
      " 9   NumOfProducts    10000 non-null  object \n",
      " 10  HasCrCard        10000 non-null  object \n",
      " 11  IsActiveMember   10000 non-null  object \n",
      " 12  EstimatedSalary  10000 non-null  float64\n",
      " 13  Exited           10000 non-null  object \n",
      "dtypes: float64(2), int64(5), object(7)\n",
      "memory usage: 1.1+ MB\n"
     ]
    }
   ],
   "source": [
    "data.info()"
   ]
  },
  {
   "cell_type": "code",
   "execution_count": 8,
   "id": "81ef92c3",
   "metadata": {},
   "outputs": [
    {
     "data": {
      "text/html": [
       "<div>\n",
       "<style scoped>\n",
       "    .dataframe tbody tr th:only-of-type {\n",
       "        vertical-align: middle;\n",
       "    }\n",
       "\n",
       "    .dataframe tbody tr th {\n",
       "        vertical-align: top;\n",
       "    }\n",
       "\n",
       "    .dataframe thead th {\n",
       "        text-align: right;\n",
       "    }\n",
       "</style>\n",
       "<table border=\"1\" class=\"dataframe\">\n",
       "  <thead>\n",
       "    <tr style=\"text-align: right;\">\n",
       "      <th></th>\n",
       "      <th>CreditScore</th>\n",
       "      <th>Tenure</th>\n",
       "      <th>Age</th>\n",
       "      <th>Balance</th>\n",
       "      <th>EstimatedSalary</th>\n",
       "      <th>Geography</th>\n",
       "      <th>Gender</th>\n",
       "      <th>NumOfProducts</th>\n",
       "      <th>HasCrCard</th>\n",
       "      <th>IsActiveMember</th>\n",
       "      <th>Exited</th>\n",
       "    </tr>\n",
       "  </thead>\n",
       "  <tbody>\n",
       "    <tr>\n",
       "      <th>0</th>\n",
       "      <td>619</td>\n",
       "      <td>2</td>\n",
       "      <td>42</td>\n",
       "      <td>0.00</td>\n",
       "      <td>101348.88</td>\n",
       "      <td>France</td>\n",
       "      <td>Female</td>\n",
       "      <td>1</td>\n",
       "      <td>1</td>\n",
       "      <td>1</td>\n",
       "      <td>1</td>\n",
       "    </tr>\n",
       "    <tr>\n",
       "      <th>1</th>\n",
       "      <td>608</td>\n",
       "      <td>1</td>\n",
       "      <td>41</td>\n",
       "      <td>83807.86</td>\n",
       "      <td>112542.58</td>\n",
       "      <td>Spain</td>\n",
       "      <td>Female</td>\n",
       "      <td>1</td>\n",
       "      <td>0</td>\n",
       "      <td>1</td>\n",
       "      <td>0</td>\n",
       "    </tr>\n",
       "    <tr>\n",
       "      <th>2</th>\n",
       "      <td>502</td>\n",
       "      <td>8</td>\n",
       "      <td>42</td>\n",
       "      <td>159660.80</td>\n",
       "      <td>113931.57</td>\n",
       "      <td>France</td>\n",
       "      <td>Female</td>\n",
       "      <td>3</td>\n",
       "      <td>1</td>\n",
       "      <td>0</td>\n",
       "      <td>1</td>\n",
       "    </tr>\n",
       "    <tr>\n",
       "      <th>3</th>\n",
       "      <td>699</td>\n",
       "      <td>1</td>\n",
       "      <td>39</td>\n",
       "      <td>0.00</td>\n",
       "      <td>93826.63</td>\n",
       "      <td>France</td>\n",
       "      <td>Female</td>\n",
       "      <td>2</td>\n",
       "      <td>0</td>\n",
       "      <td>0</td>\n",
       "      <td>0</td>\n",
       "    </tr>\n",
       "    <tr>\n",
       "      <th>4</th>\n",
       "      <td>850</td>\n",
       "      <td>2</td>\n",
       "      <td>43</td>\n",
       "      <td>125510.82</td>\n",
       "      <td>79084.10</td>\n",
       "      <td>Spain</td>\n",
       "      <td>Female</td>\n",
       "      <td>1</td>\n",
       "      <td>1</td>\n",
       "      <td>1</td>\n",
       "      <td>0</td>\n",
       "    </tr>\n",
       "  </tbody>\n",
       "</table>\n",
       "</div>"
      ],
      "text/plain": [
       "   CreditScore  Tenure  Age    Balance  EstimatedSalary Geography  Gender  \\\n",
       "0          619       2   42       0.00        101348.88    France  Female   \n",
       "1          608       1   41   83807.86        112542.58     Spain  Female   \n",
       "2          502       8   42  159660.80        113931.57    France  Female   \n",
       "3          699       1   39       0.00         93826.63    France  Female   \n",
       "4          850       2   43  125510.82         79084.10     Spain  Female   \n",
       "\n",
       "  NumOfProducts HasCrCard IsActiveMember Exited  \n",
       "0             1         1              1      1  \n",
       "1             1         0              1      0  \n",
       "2             3         1              0      1  \n",
       "3             2         0              0      0  \n",
       "4             1         1              1      0  "
      ]
     },
     "execution_count": 8,
     "metadata": {},
     "output_type": "execute_result"
    }
   ],
   "source": [
    "#sliciing the data for important columns\n",
    "df=data[num_cols+cat_cols]\n",
    "df.head()"
   ]
  },
  {
   "cell_type": "markdown",
   "id": "7ba94f4e",
   "metadata": {},
   "source": [
    "## EDA"
   ]
  },
  {
   "cell_type": "code",
   "execution_count": 13,
   "id": "b5c79e1c",
   "metadata": {},
   "outputs": [
    {
     "data": {
      "text/plain": [
       "<seaborn.axisgrid.FacetGrid at 0x28c0ae65130>"
      ]
     },
     "execution_count": 13,
     "metadata": {},
     "output_type": "execute_result"
    },
    {
     "data": {
      "image/png": "[encoded data removed]",
      "text/plain": [
       "<Figure size 402.375x360 with 1 Axes>"
      ]
     },
     "metadata": {
      "needs_background": "light"
     },
     "output_type": "display_data"
    }
   ],
   "source": [
    "sns.catplot(y=\"Geography\", hue=\"Exited\", kind=\"count\",\n",
    "            palette=\"pastel\", edgecolor=\".6\",\n",
    "            data=df)"
   ]
  },
  {
   "cell_type": "markdown",
   "id": "286e7205",
   "metadata": {},
   "source": [
    "#### Looks like most of the data is beloning to France , but if we look closely we can see that Germany has higher rate of customer churn , so may be we can do some due deligence in imporving the service there."
   ]
  },
  {
   "cell_type": "code",
   "execution_count": 14,
   "id": "763d510f",
   "metadata": {},
   "outputs": [
    {
     "data": {
      "text/plain": [
       "<seaborn.axisgrid.FacetGrid at 0x28c0c66f400>"
      ]
     },
     "execution_count": 14,
     "metadata": {},
     "output_type": "execute_result"
    },
    {
     "data": {
      "image/png": "[encoded data removed]",
      "text/plain": [
       "<Figure size 402.375x360 with 1 Axes>"
      ]
     },
     "metadata": {
      "needs_background": "light"
     },
     "output_type": "display_data"
    }
   ],
   "source": [
    "sns.catplot(y=\"NumOfProducts\", hue=\"Exited\", kind=\"count\",\n",
    "            palette=\"pastel\", edgecolor=\".6\",\n",
    "            data=df)"
   ]
  },
  {
   "cell_type": "markdown",
   "id": "556ffe59",
   "metadata": {},
   "source": [
    "#### For some reason it looks like if customers by more number of products they are more likely to chrun\n"
   ]
  },
  {
   "cell_type": "code",
   "execution_count": 15,
   "id": "38b3406b",
   "metadata": {},
   "outputs": [
    {
     "data": {
      "text/plain": [
       "<seaborn.axisgrid.FacetGrid at 0x28c0c699fa0>"
      ]
     },
     "execution_count": 15,
     "metadata": {},
     "output_type": "execute_result"
    },
    {
     "data": {
      "image/png": "[encoded data removed]",
      "text/plain": [
       "<Figure size 402.375x360 with 1 Axes>"
      ]
     },
     "metadata": {
      "needs_background": "light"
     },
     "output_type": "display_data"
    }
   ],
   "source": [
    "sns.catplot(y=\"HasCrCard\", hue=\"Exited\", kind=\"count\",\n",
    "            palette=\"pastel\", edgecolor=\".6\",\n",
    "            data=df)"
   ]
  },
  {
   "cell_type": "code",
   "execution_count": 16,
   "id": "044de6f3",
   "metadata": {},
   "outputs": [
    {
     "data": {
      "text/plain": [
       "0.26286449399656947"
      ]
     },
     "execution_count": 16,
     "metadata": {},
     "output_type": "execute_result"
    }
   ],
   "source": [
    "len(data[(data['HasCrCard']==0) &(data['Exited']==1)])/len(data[(data['HasCrCard']==0) &(data['Exited']==0)])"
   ]
  },
  {
   "cell_type": "code",
   "execution_count": 17,
   "id": "52138985",
   "metadata": {},
   "outputs": [
    {
     "data": {
      "text/plain": [
       "0.25288581069081867"
      ]
     },
     "execution_count": 17,
     "metadata": {},
     "output_type": "execute_result"
    }
   ],
   "source": [
    "len(data[(data['HasCrCard']==1) &(data['Exited']==1)])/len(data[(data['HasCrCard']==1) &(data['Exited']==0)])"
   ]
  },
  {
   "cell_type": "markdown",
   "id": "fe2baf66",
   "metadata": {},
   "source": [
    "#### Ratio of people with credit card and without credit card churing looks same  , but there are more people that has cards and not exited "
   ]
  },
  {
   "cell_type": "code",
   "execution_count": 18,
   "id": "e358ff38",
   "metadata": {},
   "outputs": [
    {
     "data": {
      "text/plain": [
       "<seaborn.axisgrid.FacetGrid at 0x28c0c6f4f40>"
      ]
     },
     "execution_count": 18,
     "metadata": {},
     "output_type": "execute_result"
    },
    {
     "data": {
      "image/png": "[encoded data removed]",
      "text/plain": [
       "<Figure size 402.375x360 with 1 Axes>"
      ]
     },
     "metadata": {
      "needs_background": "light"
     },
     "output_type": "display_data"
    }
   ],
   "source": [
    "sns.catplot(y=\"IsActiveMember\", hue=\"Exited\", kind=\"count\",\n",
    "            palette=\"pastel\", edgecolor=\".6\",\n",
    "            data=df)"
   ]
  },
  {
   "cell_type": "code",
   "execution_count": 19,
   "id": "46a9dfc5",
   "metadata": {},
   "outputs": [
    {
     "data": {
      "text/plain": [
       "0.3670707640259374"
      ]
     },
     "execution_count": 19,
     "metadata": {},
     "output_type": "execute_result"
    }
   ],
   "source": [
    "#### \n",
    "len(data[(data['IsActiveMember']==0) &(data['Exited']==1)])/len(data[(data['IsActiveMember']==0) &(data['Exited']==0)])"
   ]
  },
  {
   "cell_type": "code",
   "execution_count": 20,
   "id": "d6364e19",
   "metadata": {},
   "outputs": [
    {
     "data": {
      "text/plain": [
       "0.16644021739130435"
      ]
     },
     "execution_count": 20,
     "metadata": {},
     "output_type": "execute_result"
    }
   ],
   "source": [
    "len(data[(data['IsActiveMember']==1) &(data['Exited']==1)])/len(data[(data['IsActiveMember']==1) &(data['Exited']==0)])"
   ]
  },
  {
   "cell_type": "markdown",
   "id": "77eddadd",
   "metadata": {},
   "source": [
    "#### Inavtive members exited more"
   ]
  },
  {
   "cell_type": "code",
   "execution_count": 21,
   "id": "a109e473",
   "metadata": {},
   "outputs": [
    {
     "data": {
      "text/plain": [
       "<AxesSubplot:xlabel='Exited', ylabel='EstimatedSalary'>"
      ]
     },
     "execution_count": 21,
     "metadata": {},
     "output_type": "execute_result"
    },
    {
     "data": {
      "image/png": "[encoded data removed]",
      "text/plain": [
       "<Figure size 1440x864 with 6 Axes>"
      ]
     },
     "metadata": {
      "needs_background": "light"
     },
     "output_type": "display_data"
    }
   ],
   "source": [
    " # Relations based on the numeric data attributes\n",
    "fig, axarr = plt.subplots(3, 2, figsize=(20, 12))\n",
    "sns.boxplot(y='CreditScore',x = 'Exited', hue = 'Exited',data = df, ax=axarr[0][0])\n",
    "sns.boxplot(y='Age',x = 'Exited', hue = 'Exited',data = df , ax=axarr[0][1])\n",
    "sns.boxplot(y='Tenure',x = 'Exited', hue = 'Exited',data = df, ax=axarr[1][0])\n",
    "sns.boxplot(y='Balance',x = 'Exited', hue = 'Exited',data = df, ax=axarr[1][1])\n",
    "sns.boxplot(y='NumOfProducts',x = 'Exited', hue = 'Exited',data = df, ax=axarr[2][0])\n",
    "sns.boxplot(y='EstimatedSalary',x = 'Exited', hue = 'Exited',data = df, ax=axarr[2][1])"
   ]
  },
  {
   "cell_type": "markdown",
   "id": "a8eadc13",
   "metadata": {},
   "source": [
    "#### Observations\n",
    "\n",
    "There is no significant difference in the credit score distribution between retained and churned customers.\n",
    "The older customers are churning at more than the younger ones alluding to a difference in service preference in the age categories. The bank may need to review their target market or review the strategy for retention between the different age groups\n",
    "With regard to the tenure, the clients on either extreme end (spent little time with the bank or a lot of time with the bank) are more likely to churn compared to those that are of average tenure.\n",
    "Worryingly, the bank is losing customers with significant bank balances which is likely to hit their available capital for lending.\n",
    "Neither the product nor the salary has a significant effect on the likelihood to churn."
   ]
  },
  {
   "cell_type": "code",
   "execution_count": 9,
   "id": "ba5b8608",
   "metadata": {},
   "outputs": [
    {
     "name": "stdout",
     "output_type": "stream",
     "text": [
      "8000\n",
      "2000\n"
     ]
    }
   ],
   "source": [
    "# Split Train, test data\n",
    "df_train = df.sample(frac=0.8,random_state=200)\n",
    "df_test = df.drop(df_train.index)\n",
    "print(len(df_train))\n",
    "print(len(df_test))"
   ]
  },
  {
   "cell_type": "code",
   "execution_count": 10,
   "id": "d5e9e093",
   "metadata": {},
   "outputs": [],
   "source": [
    "df_train['BalanceSalaryRatio'] = df_train.Balance/df_train.EstimatedSalary\n",
    "df_train['EstimatedSalaryAgeRatio'] = df_train.EstimatedSalary/df_train.Age\n",
    "df_train['CreditScoreAgeRatio'] = df_train.CreditScore/df_train.Age\n",
    "df_train['TenureAgeRatio'] = df_train.Tenure/df_train.Age\n",
    "df_train['NumOfProductsAgeRatio'] = df_train.NumOfProducts/df_train.Age"
   ]
  },
  {
   "cell_type": "code",
   "execution_count": 11,
   "id": "9ee7ff50",
   "metadata": {},
   "outputs": [
    {
     "data": {
      "text/html": [
       "<div>\n",
       "<style scoped>\n",
       "    .dataframe tbody tr th:only-of-type {\n",
       "        vertical-align: middle;\n",
       "    }\n",
       "\n",
       "    .dataframe tbody tr th {\n",
       "        vertical-align: top;\n",
       "    }\n",
       "\n",
       "    .dataframe thead th {\n",
       "        text-align: right;\n",
       "    }\n",
       "</style>\n",
       "<table border=\"1\" class=\"dataframe\">\n",
       "  <thead>\n",
       "    <tr style=\"text-align: right;\">\n",
       "      <th></th>\n",
       "      <th>CreditScore</th>\n",
       "      <th>Tenure</th>\n",
       "      <th>Age</th>\n",
       "      <th>Balance</th>\n",
       "      <th>EstimatedSalary</th>\n",
       "      <th>Geography</th>\n",
       "      <th>Gender</th>\n",
       "      <th>NumOfProducts</th>\n",
       "      <th>HasCrCard</th>\n",
       "      <th>IsActiveMember</th>\n",
       "      <th>Exited</th>\n",
       "      <th>BalanceSalaryRatio</th>\n",
       "      <th>EstimatedSalaryAgeRatio</th>\n",
       "      <th>CreditScoreAgeRatio</th>\n",
       "      <th>TenureAgeRatio</th>\n",
       "      <th>NumOfProductsAgeRatio</th>\n",
       "    </tr>\n",
       "  </thead>\n",
       "  <tbody>\n",
       "    <tr>\n",
       "      <th>8159</th>\n",
       "      <td>461</td>\n",
       "      <td>6</td>\n",
       "      <td>25</td>\n",
       "      <td>0.00</td>\n",
       "      <td>15306.29</td>\n",
       "      <td>Spain</td>\n",
       "      <td>Female</td>\n",
       "      <td>2</td>\n",
       "      <td>1</td>\n",
       "      <td>1</td>\n",
       "      <td>0</td>\n",
       "      <td>0.000000</td>\n",
       "      <td>612.251600</td>\n",
       "      <td>18.440000</td>\n",
       "      <td>0.240000</td>\n",
       "      <td>0.08</td>\n",
       "    </tr>\n",
       "    <tr>\n",
       "      <th>6332</th>\n",
       "      <td>619</td>\n",
       "      <td>4</td>\n",
       "      <td>35</td>\n",
       "      <td>90413.12</td>\n",
       "      <td>20555.21</td>\n",
       "      <td>France</td>\n",
       "      <td>Female</td>\n",
       "      <td>1</td>\n",
       "      <td>1</td>\n",
       "      <td>1</td>\n",
       "      <td>0</td>\n",
       "      <td>4.398550</td>\n",
       "      <td>587.291714</td>\n",
       "      <td>17.685714</td>\n",
       "      <td>0.114286</td>\n",
       "      <td>0.028571</td>\n",
       "    </tr>\n",
       "    <tr>\n",
       "      <th>8895</th>\n",
       "      <td>699</td>\n",
       "      <td>8</td>\n",
       "      <td>40</td>\n",
       "      <td>122038.34</td>\n",
       "      <td>102085.35</td>\n",
       "      <td>France</td>\n",
       "      <td>Female</td>\n",
       "      <td>1</td>\n",
       "      <td>1</td>\n",
       "      <td>0</td>\n",
       "      <td>0</td>\n",
       "      <td>1.195454</td>\n",
       "      <td>2552.133750</td>\n",
       "      <td>17.475000</td>\n",
       "      <td>0.200000</td>\n",
       "      <td>0.025</td>\n",
       "    </tr>\n",
       "    <tr>\n",
       "      <th>5351</th>\n",
       "      <td>558</td>\n",
       "      <td>2</td>\n",
       "      <td>41</td>\n",
       "      <td>124227.14</td>\n",
       "      <td>111184.67</td>\n",
       "      <td>Germany</td>\n",
       "      <td>Male</td>\n",
       "      <td>1</td>\n",
       "      <td>1</td>\n",
       "      <td>1</td>\n",
       "      <td>0</td>\n",
       "      <td>1.117305</td>\n",
       "      <td>2711.821220</td>\n",
       "      <td>13.609756</td>\n",
       "      <td>0.048780</td>\n",
       "      <td>0.02439</td>\n",
       "    </tr>\n",
       "    <tr>\n",
       "      <th>4314</th>\n",
       "      <td>638</td>\n",
       "      <td>5</td>\n",
       "      <td>34</td>\n",
       "      <td>133501.36</td>\n",
       "      <td>155643.04</td>\n",
       "      <td>France</td>\n",
       "      <td>Male</td>\n",
       "      <td>1</td>\n",
       "      <td>0</td>\n",
       "      <td>1</td>\n",
       "      <td>0</td>\n",
       "      <td>0.857741</td>\n",
       "      <td>4577.736471</td>\n",
       "      <td>18.764706</td>\n",
       "      <td>0.147059</td>\n",
       "      <td>0.029412</td>\n",
       "    </tr>\n",
       "  </tbody>\n",
       "</table>\n",
       "</div>"
      ],
      "text/plain": [
       "      CreditScore  Tenure  Age    Balance  EstimatedSalary Geography  Gender  \\\n",
       "8159          461       6   25       0.00         15306.29     Spain  Female   \n",
       "6332          619       4   35   90413.12         20555.21    France  Female   \n",
       "8895          699       8   40  122038.34        102085.35    France  Female   \n",
       "5351          558       2   41  124227.14        111184.67   Germany    Male   \n",
       "4314          638       5   34  133501.36        155643.04    France    Male   \n",
       "\n",
       "     NumOfProducts HasCrCard IsActiveMember Exited  BalanceSalaryRatio  \\\n",
       "8159             2         1              1      0            0.000000   \n",
       "6332             1         1              1      0            4.398550   \n",
       "8895             1         1              0      0            1.195454   \n",
       "5351             1         1              1      0            1.117305   \n",
       "4314             1         0              1      0            0.857741   \n",
       "\n",
       "      EstimatedSalaryAgeRatio  CreditScoreAgeRatio  TenureAgeRatio  \\\n",
       "8159               612.251600            18.440000        0.240000   \n",
       "6332               587.291714            17.685714        0.114286   \n",
       "8895              2552.133750            17.475000        0.200000   \n",
       "5351              2711.821220            13.609756        0.048780   \n",
       "4314              4577.736471            18.764706        0.147059   \n",
       "\n",
       "     NumOfProductsAgeRatio  \n",
       "8159                  0.08  \n",
       "6332              0.028571  \n",
       "8895                 0.025  \n",
       "5351               0.02439  \n",
       "4314              0.029412  "
      ]
     },
     "execution_count": 11,
     "metadata": {},
     "output_type": "execute_result"
    }
   ],
   "source": [
    "df_train.head()"
   ]
  },
  {
   "cell_type": "code",
   "execution_count": 12,
   "id": "0ae4cada",
   "metadata": {},
   "outputs": [],
   "source": [
    "one_hot_encoded_data = pd.get_dummies(df_train, columns = ['Geography','Gender'], drop_first=True)\n",
    "#print(one_hot_encoded_data)"
   ]
  },
  {
   "cell_type": "code",
   "execution_count": 13,
   "id": "42b24316",
   "metadata": {},
   "outputs": [],
   "source": [
    "from sklearn.preprocessing import MinMaxScaler\n",
    "# define min max scaler\n",
    "scaler = MinMaxScaler()\n",
    "# transform data\n",
    "train_data = scaler.fit_transform(one_hot_encoded_data)\n",
    "train = pd.DataFrame(train_data,columns=one_hot_encoded_data.columns)"
   ]
  },
  {
   "cell_type": "code",
   "execution_count": 14,
   "id": "8ed205bd",
   "metadata": {},
   "outputs": [],
   "source": [
    "def transform(test_data):\n",
    "    df_test['BalanceSalaryRatio'] = df_test.Balance/df_test.EstimatedSalary\n",
    "    df_test['EstimatedSalaryAgeRatio'] = df_test.EstimatedSalary/df_test.Age\n",
    "    df_test['CreditScoreAgeRatio'] = df_test.CreditScore/df_test.Age\n",
    "    df_test['TenureAgeRatio'] = df_test.Tenure/df_test.Age\n",
    "    df_test['NumOfProductsAgeRatio'] = df_test.NumOfProducts/df_test.Age\n",
    "    one_hot_encoded_test_data = pd.get_dummies(df_test, columns = ['Geography','Gender'], drop_first=True)\n",
    "    # define min max scaler\n",
    "    scaler = MinMaxScaler()\n",
    "    # transform data\n",
    "    test_data = scaler.fit_transform(one_hot_encoded_test_data)\n",
    "    test = pd.DataFrame(test_data,columns=one_hot_encoded_test_data.columns)\n",
    "    return test"
   ]
  },
  {
   "cell_type": "code",
   "execution_count": 15,
   "id": "c6107fd3",
   "metadata": {},
   "outputs": [],
   "source": [
    "test = transform(df_test)"
   ]
  },
  {
   "cell_type": "code",
   "execution_count": 16,
   "id": "3807d2f3",
   "metadata": {},
   "outputs": [
    {
     "data": {
      "text/html": [
       "<div>\n",
       "<style scoped>\n",
       "    .dataframe tbody tr th:only-of-type {\n",
       "        vertical-align: middle;\n",
       "    }\n",
       "\n",
       "    .dataframe tbody tr th {\n",
       "        vertical-align: top;\n",
       "    }\n",
       "\n",
       "    .dataframe thead th {\n",
       "        text-align: right;\n",
       "    }\n",
       "</style>\n",
       "<table border=\"1\" class=\"dataframe\">\n",
       "  <thead>\n",
       "    <tr style=\"text-align: right;\">\n",
       "      <th></th>\n",
       "      <th>CreditScore</th>\n",
       "      <th>Tenure</th>\n",
       "      <th>Age</th>\n",
       "      <th>Balance</th>\n",
       "      <th>EstimatedSalary</th>\n",
       "      <th>NumOfProducts</th>\n",
       "      <th>HasCrCard</th>\n",
       "      <th>IsActiveMember</th>\n",
       "      <th>Exited</th>\n",
       "      <th>BalanceSalaryRatio</th>\n",
       "      <th>EstimatedSalaryAgeRatio</th>\n",
       "      <th>CreditScoreAgeRatio</th>\n",
       "      <th>TenureAgeRatio</th>\n",
       "      <th>NumOfProductsAgeRatio</th>\n",
       "      <th>Geography_Germany</th>\n",
       "      <th>Geography_Spain</th>\n",
       "      <th>Gender_Male</th>\n",
       "    </tr>\n",
       "  </thead>\n",
       "  <tbody>\n",
       "    <tr>\n",
       "      <th>0</th>\n",
       "      <td>0.270440</td>\n",
       "      <td>0.8</td>\n",
       "      <td>0.324324</td>\n",
       "      <td>0.750363</td>\n",
       "      <td>0.570039</td>\n",
       "      <td>0.666667</td>\n",
       "      <td>1.0</td>\n",
       "      <td>0.0</td>\n",
       "      <td>1.0</td>\n",
       "      <td>0.000132</td>\n",
       "      <td>0.274565</td>\n",
       "      <td>0.135061</td>\n",
       "      <td>0.400000</td>\n",
       "      <td>0.482565</td>\n",
       "      <td>0.0</td>\n",
       "      <td>0.0</td>\n",
       "      <td>0.0</td>\n",
       "    </tr>\n",
       "    <tr>\n",
       "      <th>1</th>\n",
       "      <td>0.683438</td>\n",
       "      <td>0.1</td>\n",
       "      <td>0.283784</td>\n",
       "      <td>0.000000</td>\n",
       "      <td>0.469437</td>\n",
       "      <td>0.333333</td>\n",
       "      <td>0.0</td>\n",
       "      <td>0.0</td>\n",
       "      <td>0.0</td>\n",
       "      <td>0.000000</td>\n",
       "      <td>0.243505</td>\n",
       "      <td>0.292387</td>\n",
       "      <td>0.053846</td>\n",
       "      <td>0.322027</td>\n",
       "      <td>0.0</td>\n",
       "      <td>0.0</td>\n",
       "      <td>0.0</td>\n",
       "    </tr>\n",
       "    <tr>\n",
       "      <th>2</th>\n",
       "      <td>0.570231</td>\n",
       "      <td>0.8</td>\n",
       "      <td>0.351351</td>\n",
       "      <td>0.534621</td>\n",
       "      <td>0.749303</td>\n",
       "      <td>0.333333</td>\n",
       "      <td>1.0</td>\n",
       "      <td>0.0</td>\n",
       "      <td>1.0</td>\n",
       "      <td>0.000072</td>\n",
       "      <td>0.344503</td>\n",
       "      <td>0.206382</td>\n",
       "      <td>0.381818</td>\n",
       "      <td>0.275591</td>\n",
       "      <td>0.0</td>\n",
       "      <td>1.0</td>\n",
       "      <td>1.0</td>\n",
       "    </tr>\n",
       "    <tr>\n",
       "      <th>3</th>\n",
       "      <td>0.368973</td>\n",
       "      <td>0.9</td>\n",
       "      <td>0.081081</td>\n",
       "      <td>0.000000</td>\n",
       "      <td>0.072030</td>\n",
       "      <td>0.333333</td>\n",
       "      <td>1.0</td>\n",
       "      <td>1.0</td>\n",
       "      <td>0.0</td>\n",
       "      <td>0.000000</td>\n",
       "      <td>0.060737</td>\n",
       "      <td>0.422869</td>\n",
       "      <td>0.787500</td>\n",
       "      <td>0.577428</td>\n",
       "      <td>0.0</td>\n",
       "      <td>1.0</td>\n",
       "      <td>0.0</td>\n",
       "    </tr>\n",
       "    <tr>\n",
       "      <th>4</th>\n",
       "      <td>0.448637</td>\n",
       "      <td>0.6</td>\n",
       "      <td>0.364865</td>\n",
       "      <td>0.000000</td>\n",
       "      <td>0.793978</td>\n",
       "      <td>0.000000</td>\n",
       "      <td>0.0</td>\n",
       "      <td>0.0</td>\n",
       "      <td>0.0</td>\n",
       "      <td>0.000000</td>\n",
       "      <td>0.356930</td>\n",
       "      <td>0.163837</td>\n",
       "      <td>0.280000</td>\n",
       "      <td>0.090464</td>\n",
       "      <td>0.0</td>\n",
       "      <td>1.0</td>\n",
       "      <td>1.0</td>\n",
       "    </tr>\n",
       "    <tr>\n",
       "      <th>...</th>\n",
       "      <td>...</td>\n",
       "      <td>...</td>\n",
       "      <td>...</td>\n",
       "      <td>...</td>\n",
       "      <td>...</td>\n",
       "      <td>...</td>\n",
       "      <td>...</td>\n",
       "      <td>...</td>\n",
       "      <td>...</td>\n",
       "      <td>...</td>\n",
       "      <td>...</td>\n",
       "      <td>...</td>\n",
       "      <td>...</td>\n",
       "      <td>...</td>\n",
       "      <td>...</td>\n",
       "      <td>...</td>\n",
       "      <td>...</td>\n",
       "    </tr>\n",
       "    <tr>\n",
       "      <th>1995</th>\n",
       "      <td>0.549266</td>\n",
       "      <td>0.8</td>\n",
       "      <td>0.378378</td>\n",
       "      <td>0.000000</td>\n",
       "      <td>0.303872</td>\n",
       "      <td>0.333333</td>\n",
       "      <td>1.0</td>\n",
       "      <td>1.0</td>\n",
       "      <td>0.0</td>\n",
       "      <td>0.000000</td>\n",
       "      <td>0.133634</td>\n",
       "      <td>0.183860</td>\n",
       "      <td>0.365217</td>\n",
       "      <td>0.259843</td>\n",
       "      <td>0.0</td>\n",
       "      <td>1.0</td>\n",
       "      <td>1.0</td>\n",
       "    </tr>\n",
       "    <tr>\n",
       "      <th>1996</th>\n",
       "      <td>0.524109</td>\n",
       "      <td>0.5</td>\n",
       "      <td>0.405405</td>\n",
       "      <td>0.556774</td>\n",
       "      <td>0.793505</td>\n",
       "      <td>0.000000</td>\n",
       "      <td>1.0</td>\n",
       "      <td>1.0</td>\n",
       "      <td>0.0</td>\n",
       "      <td>0.000070</td>\n",
       "      <td>0.334421</td>\n",
       "      <td>0.162116</td>\n",
       "      <td>0.218750</td>\n",
       "      <td>0.079396</td>\n",
       "      <td>0.0</td>\n",
       "      <td>0.0</td>\n",
       "      <td>1.0</td>\n",
       "    </tr>\n",
       "    <tr>\n",
       "      <th>1997</th>\n",
       "      <td>0.494759</td>\n",
       "      <td>0.6</td>\n",
       "      <td>0.310811</td>\n",
       "      <td>0.000000</td>\n",
       "      <td>0.563302</td>\n",
       "      <td>0.000000</td>\n",
       "      <td>0.0</td>\n",
       "      <td>1.0</td>\n",
       "      <td>0.0</td>\n",
       "      <td>0.000000</td>\n",
       "      <td>0.277939</td>\n",
       "      <td>0.211509</td>\n",
       "      <td>0.307317</td>\n",
       "      <td>0.107740</td>\n",
       "      <td>0.0</td>\n",
       "      <td>0.0</td>\n",
       "      <td>1.0</td>\n",
       "    </tr>\n",
       "    <tr>\n",
       "      <th>1998</th>\n",
       "      <td>0.498952</td>\n",
       "      <td>0.7</td>\n",
       "      <td>0.121622</td>\n",
       "      <td>0.000000</td>\n",
       "      <td>0.787920</td>\n",
       "      <td>0.333333</td>\n",
       "      <td>1.0</td>\n",
       "      <td>1.0</td>\n",
       "      <td>0.0</td>\n",
       "      <td>0.000000</td>\n",
       "      <td>0.590362</td>\n",
       "      <td>0.416403</td>\n",
       "      <td>0.544444</td>\n",
       "      <td>0.503645</td>\n",
       "      <td>0.0</td>\n",
       "      <td>0.0</td>\n",
       "      <td>1.0</td>\n",
       "    </tr>\n",
       "    <tr>\n",
       "      <th>1999</th>\n",
       "      <td>0.842767</td>\n",
       "      <td>0.4</td>\n",
       "      <td>0.162162</td>\n",
       "      <td>0.000000</td>\n",
       "      <td>0.246821</td>\n",
       "      <td>0.333333</td>\n",
       "      <td>1.0</td>\n",
       "      <td>0.0</td>\n",
       "      <td>0.0</td>\n",
       "      <td>0.000000</td>\n",
       "      <td>0.166450</td>\n",
       "      <td>0.500820</td>\n",
       "      <td>0.280000</td>\n",
       "      <td>0.444619</td>\n",
       "      <td>0.0</td>\n",
       "      <td>0.0</td>\n",
       "      <td>1.0</td>\n",
       "    </tr>\n",
       "  </tbody>\n",
       "</table>\n",
       "<p>2000 rows × 17 columns</p>\n",
       "</div>"
      ],
      "text/plain": [
       "      CreditScore  Tenure       Age   Balance  EstimatedSalary  NumOfProducts  \\\n",
       "0        0.270440     0.8  0.324324  0.750363         0.570039       0.666667   \n",
       "1        0.683438     0.1  0.283784  0.000000         0.469437       0.333333   \n",
       "2        0.570231     0.8  0.351351  0.534621         0.749303       0.333333   \n",
       "3        0.368973     0.9  0.081081  0.000000         0.072030       0.333333   \n",
       "4        0.448637     0.6  0.364865  0.000000         0.793978       0.000000   \n",
       "...           ...     ...       ...       ...              ...            ...   \n",
       "1995     0.549266     0.8  0.378378  0.000000         0.303872       0.333333   \n",
       "1996     0.524109     0.5  0.405405  0.556774         0.793505       0.000000   \n",
       "1997     0.494759     0.6  0.310811  0.000000         0.563302       0.000000   \n",
       "1998     0.498952     0.7  0.121622  0.000000         0.787920       0.333333   \n",
       "1999     0.842767     0.4  0.162162  0.000000         0.246821       0.333333   \n",
       "\n",
       "      HasCrCard  IsActiveMember  Exited  BalanceSalaryRatio  \\\n",
       "0           1.0             0.0     1.0            0.000132   \n",
       "1           0.0             0.0     0.0            0.000000   \n",
       "2           1.0             0.0     1.0            0.000072   \n",
       "3           1.0             1.0     0.0            0.000000   \n",
       "4           0.0             0.0     0.0            0.000000   \n",
       "...         ...             ...     ...                 ...   \n",
       "1995        1.0             1.0     0.0            0.000000   \n",
       "1996        1.0             1.0     0.0            0.000070   \n",
       "1997        0.0             1.0     0.0            0.000000   \n",
       "1998        1.0             1.0     0.0            0.000000   \n",
       "1999        1.0             0.0     0.0            0.000000   \n",
       "\n",
       "      EstimatedSalaryAgeRatio  CreditScoreAgeRatio  TenureAgeRatio  \\\n",
       "0                    0.274565             0.135061        0.400000   \n",
       "1                    0.243505             0.292387        0.053846   \n",
       "2                    0.344503             0.206382        0.381818   \n",
       "3                    0.060737             0.422869        0.787500   \n",
       "4                    0.356930             0.163837        0.280000   \n",
       "...                       ...                  ...             ...   \n",
       "1995                 0.133634             0.183860        0.365217   \n",
       "1996                 0.334421             0.162116        0.218750   \n",
       "1997                 0.277939             0.211509        0.307317   \n",
       "1998                 0.590362             0.416403        0.544444   \n",
       "1999                 0.166450             0.500820        0.280000   \n",
       "\n",
       "      NumOfProductsAgeRatio  Geography_Germany  Geography_Spain  Gender_Male  \n",
       "0                  0.482565                0.0              0.0          0.0  \n",
       "1                  0.322027                0.0              0.0          0.0  \n",
       "2                  0.275591                0.0              1.0          1.0  \n",
       "3                  0.577428                0.0              1.0          0.0  \n",
       "4                  0.090464                0.0              1.0          1.0  \n",
       "...                     ...                ...              ...          ...  \n",
       "1995               0.259843                0.0              1.0          1.0  \n",
       "1996               0.079396                0.0              0.0          1.0  \n",
       "1997               0.107740                0.0              0.0          1.0  \n",
       "1998               0.503645                0.0              0.0          1.0  \n",
       "1999               0.444619                0.0              0.0          1.0  \n",
       "\n",
       "[2000 rows x 17 columns]"
      ]
     },
     "execution_count": 16,
     "metadata": {},
     "output_type": "execute_result"
    }
   ],
   "source": [
    "test"
   ]
  },
  {
   "cell_type": "code",
   "execution_count": 19,
   "id": "26fe18ef",
   "metadata": {},
   "outputs": [],
   "source": [
    "# transform the dataset\n",
    "from imblearn.over_sampling import SMOTE\n",
    "oversample = SMOTE()\n",
    "X, y = oversample.fit_resample(train.loc[:, train.columns != 'Exited'], train.Exited)"
   ]
  },
  {
   "cell_type": "code",
   "execution_count": 30,
   "id": "ee6b5f43",
   "metadata": {},
   "outputs": [],
   "source": [
    "from sklearn.model_selection import cross_val_score\n",
    "from sklearn.model_selection import GridSearchCV\n",
    "from sklearn.ensemble import RandomForestClassifier\n",
    "from xgboost import XGBClassifier\n",
    "from  sklearn.tree import DecisionTreeClassifier\n",
    "# Scoring functions\n",
    "from sklearn.metrics import accuracy_score\n",
    "from sklearn.metrics import classification_report\n",
    "from sklearn.metrics import roc_auc_score\n",
    "from sklearn.metrics import roc_curve"
   ]
  },
  {
   "cell_type": "code",
   "execution_count": 25,
   "id": "94e7ecad",
   "metadata": {},
   "outputs": [],
   "source": [
    "# Decision Tree\n",
    "param_grid = {'max_depth': [5,6,7,8],\n",
    "             'min_weight_fraction_leaf':[0, 0.2, 0.3, 0.5]}\n",
    "dtree_grid = GridSearchCV(DecisionTreeClassifier(), param_grid, cv=5, refit=True, verbose=0)\n",
    "dtree_model_s=dtree_grid.fit(X,y)\n",
    "#best_model(RanFor_grid)"
   ]
  },
  {
   "cell_type": "raw",
   "id": "36a467a0",
   "metadata": {},
   "source": [
    "dtree_pred=dtree_model.predict(test.loc[:, test.columns != 'Exited'])"
   ]
  },
  {
   "cell_type": "code",
   "execution_count": 27,
   "id": "8059cc61",
   "metadata": {},
   "outputs": [
    {
     "name": "stdout",
     "output_type": "stream",
     "text": [
      "Train\n",
      "              precision    recall  f1-score   support\n",
      "\n",
      "         0.0       0.93      0.82      0.87      6353\n",
      "         1.0       0.53      0.77      0.63      1647\n",
      "\n",
      "    accuracy                           0.81      8000\n",
      "   macro avg       0.73      0.80      0.75      8000\n",
      "weighted avg       0.85      0.81      0.82      8000\n",
      "\n",
      "Test\n",
      "              precision    recall  f1-score   support\n",
      "\n",
      "         0.0       0.91      0.68      0.78      1610\n",
      "         1.0       0.36      0.74      0.48       390\n",
      "\n",
      "    accuracy                           0.69      2000\n",
      "   macro avg       0.64      0.71      0.63      2000\n",
      "weighted avg       0.81      0.69      0.72      2000\n",
      "\n"
     ]
    }
   ],
   "source": [
    "print(\"Train\")\n",
    "print(classification_report(train.Exited, dtree_model_s.predict(train.loc[:, train.columns != 'Exited'])))\n",
    "print(\"Test\")\n",
    "print(classification_report(test.Exited,  dtree_model_s.predict(test.loc[:, test.columns != 'Exited'])))"
   ]
  },
  {
   "cell_type": "code",
   "execution_count": 32,
   "id": "a1b67f6e",
   "metadata": {},
   "outputs": [],
   "source": [
    "#Random Forest Model\n",
    "\n",
    "param_grid = {'max_depth': [3, 5, 6, 7, 8], 'max_features': [2,4,6,7,8,9],'n_estimators':[50,100],'min_samples_split': [3, 5, 6, 7]}\n",
    "RanFor_grid = GridSearchCV(RandomForestClassifier(), param_grid, cv=5, refit=True, verbose=0)\n",
    "RF_model_s=RanFor_grid.fit(X,y)\n",
    "#best_model(RanFor_grid)"
   ]
  },
  {
   "cell_type": "code",
   "execution_count": 32,
   "id": "256bc2d7",
   "metadata": {},
   "outputs": [],
   "source": [
    "rf_pred=RF_model_s.predict(test.loc[:, test.columns != 'Exited'])"
   ]
  },
  {
   "cell_type": "code",
   "execution_count": 40,
   "id": "522c4010",
   "metadata": {},
   "outputs": [
    {
     "name": "stdout",
     "output_type": "stream",
     "text": [
      "Train\n",
      "              precision    recall  f1-score   support\n",
      "\n",
      "         0.0       0.93      0.88      0.91      6353\n",
      "         1.0       0.63      0.74      0.68      1647\n",
      "\n",
      "    accuracy                           0.86      8000\n",
      "   macro avg       0.78      0.81      0.79      8000\n",
      "weighted avg       0.87      0.86      0.86      8000\n",
      "\n",
      "Test\n",
      "              precision    recall  f1-score   support\n",
      "\n",
      "         0.0       0.92      0.76      0.83      1610\n",
      "         1.0       0.43      0.74      0.54       390\n",
      "\n",
      "    accuracy                           0.76      2000\n",
      "   macro avg       0.67      0.75      0.69      2000\n",
      "weighted avg       0.83      0.76      0.78      2000\n",
      "\n"
     ]
    }
   ],
   "source": [
    "print(\"Train\")\n",
    "print(classification_report(train.Exited, RF_model_s.predict(train.loc[:, train.columns != 'Exited'])))\n",
    "print(\"Test\")\n",
    "print(classification_report(test.Exited,  RF_model_s.predict(test.loc[:, test.columns != 'Exited'])))"
   ]
  },
  {
   "cell_type": "code",
   "execution_count": 34,
   "id": "09e6d78e",
   "metadata": {},
   "outputs": [],
   "source": [
    "#Gradient boosting classifier\n",
    "param_grid = {'max_depth': [5,6,7,8], 'gamma': [0.01,0.001,0.001],'min_child_weight':[1,5,10], 'learning_rate': [0.05,0.1, 0.2, 0.3], 'n_estimators':[5,10,20,100]}\n",
    "xgb_grid = GridSearchCV(XGBClassifier(), param_grid, cv=5, refit=True, verbose=0)\n",
    "xgb_model_s=xgb_grid.fit(X,y)"
   ]
  },
  {
   "cell_type": "code",
   "execution_count": 55,
   "id": "ce055668",
   "metadata": {},
   "outputs": [],
   "source": [
    "xgb_pred=xgb_model_s.predict(test.loc[:, test.columns != 'Exited'])"
   ]
  },
  {
   "cell_type": "code",
   "execution_count": 36,
   "id": "b9626940",
   "metadata": {},
   "outputs": [
    {
     "name": "stdout",
     "output_type": "stream",
     "text": [
      "Train\n",
      "              precision    recall  f1-score   support\n",
      "\n",
      "         0.0       0.98      0.99      0.99      6353\n",
      "         1.0       0.97      0.91      0.94      1647\n",
      "\n",
      "    accuracy                           0.98      8000\n",
      "   macro avg       0.98      0.95      0.96      8000\n",
      "weighted avg       0.98      0.98      0.98      8000\n",
      "\n",
      "Test\n",
      "              precision    recall  f1-score   support\n",
      "\n",
      "         0.0       0.91      0.79      0.85      1610\n",
      "         1.0       0.44      0.67      0.53       390\n",
      "\n",
      "    accuracy                           0.77      2000\n",
      "   macro avg       0.67      0.73      0.69      2000\n",
      "weighted avg       0.82      0.77      0.79      2000\n",
      "\n"
     ]
    }
   ],
   "source": [
    "print(\"Train\")\n",
    "print(classification_report(train.Exited, xgb_model_s.predict(train.loc[:, train.columns != 'Exited'])))\n",
    "print(\"Test\")\n",
    "print(classification_report(test.Exited,  xgb_model_s.predict(test.loc[:, test.columns != 'Exited'])))"
   ]
  },
  {
   "cell_type": "code",
   "execution_count": null,
   "id": "6704da5f",
   "metadata": {},
   "outputs": [],
   "source": [
    "'''We will select Random Forest as final model\n",
    "We are looking a Recall as a metric , reason- asumption: We shold be okay with some false positive, as this is a customer churn\n",
    "and even if we mark some false positive that should be okay. Also as this is a imbalance dataset we cannot use accuracy as a measure\n",
    "As per below code , we can see that we also get AUC of 0.74 which looks decent."
   ]
  },
  {
   "cell_type": "code",
   "execution_count": 42,
   "id": "767eefbe",
   "metadata": {},
   "outputs": [],
   "source": [
    "def get_auc_scores(y_actual, method,method2):\n",
    "    auc_score = roc_auc_score(y_actual, method); \n",
    "    fpr_df, tpr_df, _ = roc_curve(y_actual, method2); \n",
    "    return (auc_score, fpr_df, tpr_df)"
   ]
  },
  {
   "cell_type": "code",
   "execution_count": 44,
   "id": "04bf21f5",
   "metadata": {},
   "outputs": [
    {
     "data": {
      "image/png": "[encoded data removed]",
      "text/plain": [
       "<Figure size 864x432 with 1 Axes>"
      ]
     },
     "metadata": {
      "needs_background": "light"
     },
     "output_type": "display_data"
    }
   ],
   "source": [
    "auc_RF_test, fpr_RF_test, tpr_RF_test = get_auc_scores(test.Exited, RF_model_s.predict(test.loc[:, test.columns != 'Exited']),\n",
    "                                                       RF_model_s.predict_proba(test.loc[:, test.columns != 'Exited'])[:,1])\n",
    "plt.figure(figsize = (12,6), linewidth= 1)\n",
    "plt.plot(fpr_RF_test, tpr_RF_test, label = 'RF score: ' + str(round(auc_RF_test, 5)))\n",
    "plt.plot([0,1], [0,1], 'k--', label = 'Random: 0.5')\n",
    "plt.xlabel('False positive rate')\n",
    "plt.ylabel('True positive rate')\n",
    "plt.title('ROC Curve')\n",
    "plt.legend(loc='best')\n",
    "#plt.savefig('roc_results_ratios.png')\n",
    "plt.show()"
   ]
  },
  {
   "cell_type": "code",
   "execution_count": null,
   "id": "9047c79e",
   "metadata": {},
   "outputs": [],
   "source": []
  }
 ],
 "metadata": {
  "kernelspec": {
   "display_name": "Python 3 (ipykernel)",
   "language": "python",
   "name": "python3"
  },
  "language_info": {
   "codemirror_mode": {
    "name": "ipython",
    "version": 3
   },
   "file_extension": ".py",
   "mimetype": "text/x-python",
   "name": "python",
   "nbconvert_exporter": "python",
   "pygments_lexer": "ipython3",
   "version": "3.9.12"
  }
 },
 "nbformat": 4,
 "nbformat_minor": 5
}
